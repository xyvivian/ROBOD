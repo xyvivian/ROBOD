{
 "cells": [
  {
   "cell_type": "code",
   "execution_count": 85,
   "id": "1b948c33",
   "metadata": {},
   "outputs": [],
   "source": [
    "import numpy as np\n",
    "import sys\n",
    "import os\n",
    "import random\n",
    "from utils.dataset_generator import generate_data,generate_numpy_data\n",
    "from sklearn.metrics import roc_auc_score\n",
    "\n",
    "sys.path.append(\"..\")\n",
    "\n",
    "from utils.data_loader import CustomizeDataLoader\n",
    "from utils.dataset_generator import generate_data\n",
    "\n",
    "dataset = \"CIFAR10\"\n",
    "normal_class= 0\n",
    "model = \"LinearROBODSub\""
   ]
  },
  {
   "cell_type": "code",
   "execution_count": 86,
   "id": "dd1253b7",
   "metadata": {},
   "outputs": [
    {
     "name": "stdout",
     "output_type": "stream",
     "text": [
      "Files already downloaded and verified\n"
     ]
    }
   ],
   "source": [
    "train_X, train_y =  generate_data(normal_class, dataset= dataset, transductive = True, flatten =False, GCN = True)\n",
    "input_dim = train_X.shape[1] "
   ]
  },
  {
   "cell_type": "code",
   "execution_count": 87,
   "id": "92eec999",
   "metadata": {},
   "outputs": [],
   "source": [
    "with open(\"results/%s/%s/transductive/%d/%s.txt\" % (model, dataset,normal_class, model)) as openfile: #\n",
    "    results = openfile.readlines()"
   ]
  },
  {
   "cell_type": "code",
   "execution_count": 88,
   "id": "58a22b29",
   "metadata": {},
   "outputs": [],
   "source": [
    "savedir = \"results/%s/%s/transductive/%d\" % (model, dataset, normal_class)"
   ]
  },
  {
   "cell_type": "code",
   "execution_count": 89,
   "id": "2c220374",
   "metadata": {},
   "outputs": [],
   "source": [
    "result_dict = {}\n",
    "hp_set = set()\n",
    "for i,line in enumerate(results):\n",
    "    line = line.strip()\n",
    "    if line.startswith(\"hpname\"):\n",
    "        if line not in hp_set:\n",
    "            hp_set.add(line)\n",
    "            result_dict[line] = {\"time\": [], \"auroc\": [], \"memory\": []}\n",
    "    if line.startswith(\"exp_num\"):\n",
    "        hpname = results[i-1].strip()\n",
    "        training_time = float(results[i+1].strip().split(\": \")[1])\n",
    "        auc = float(results[i+2].strip().split(\": \")[1])\n",
    "        memory = float(results[i+3].strip().split(\": \")[1])\n",
    "        result_dict[hpname][\"time\"].append(training_time)\n",
    "        result_dict[hpname][\"auroc\"].append(auc)\n",
    "        result_dict[hpname][\"memory\"].append(memory)\n",
    "    else:\n",
    "        continue"
   ]
  },
  {
   "cell_type": "code",
   "execution_count": 92,
   "id": "f3735cc8",
   "metadata": {},
   "outputs": [],
   "source": [
    "total_pred = []\n",
    "total_time = []\n",
    "total_memory =[]\n",
    "for exp in range(3):\n",
    "    pred = []\n",
    "    time = 0.0\n",
    "    max_memory = []\n",
    "    for i in result_dict.keys():\n",
    "        result = np.load(savedir + \"/\" +i.split(\"hpname: \")[1] + \"/\" + str(exp) + \"_prediction.npy\")\n",
    "        individual_time = result_dict[i]['time'][exp]\n",
    "        pred.append(result)\n",
    "        time+= individual_time\n",
    "        max_memory.append(result_dict[i]['memory'][exp])\n",
    "    hyper_score = np.mean(pred, axis = 0)\n",
    "    total_pred.append(roc_auc_score(train_y, hyper_score))\n",
    "    total_time.append(time)\n",
    "    total_memory.append(np.max(max_memory))"
   ]
  },
  {
   "cell_type": "code",
   "execution_count": 94,
   "id": "71d0508a",
   "metadata": {},
   "outputs": [
    {
     "name": "stdout",
     "output_type": "stream",
     "text": [
      "0.59605   0.00522\n"
     ]
    }
   ],
   "source": [
    "print(\"%.5f   %.5f\" % (np.mean(total_pred), np.std(total_pred)))"
   ]
  },
  {
   "cell_type": "code",
   "execution_count": 95,
   "id": "6e04606f",
   "metadata": {},
   "outputs": [
    {
     "name": "stdout",
     "output_type": "stream",
     "text": [
      "3229.61864   46.25541\n"
     ]
    }
   ],
   "source": [
    "print(\"%.5f   %.5f\" % (np.mean(total_time), np.std(total_time)))"
   ]
  }
 ],
 "metadata": {
  "kernelspec": {
   "display_name": "Python 3 (ipykernel)",
   "language": "python",
   "name": "python3"
  },
  "language_info": {
   "codemirror_mode": {
    "name": "ipython",
    "version": 3
   },
   "file_extension": ".py",
   "mimetype": "text/x-python",
   "name": "python",
   "nbconvert_exporter": "python",
   "pygments_lexer": "ipython3",
   "version": "3.7.7"
  }
 },
 "nbformat": 4,
 "nbformat_minor": 5
}
